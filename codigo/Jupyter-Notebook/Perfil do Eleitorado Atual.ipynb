{
 "cells": [
  {
   "cell_type": "markdown",
   "metadata": {},
   "source": [
    "#  Análise dos dados de acordo com perfil do eleitorado"
   ]
  },
  {
   "cell_type": "markdown",
   "metadata": {},
   "source": [
    "#### 1º Passo - Importar as bibliotecas a serem utilizadas"
   ]
  },
  {
   "cell_type": "code",
   "execution_count": 1,
   "metadata": {},
   "outputs": [],
   "source": [
    "import pandas as pd #para ler, visualizar e printar informações da base de dados\n"
   ]
  },
  {
   "cell_type": "markdown",
   "metadata": {},
   "source": [
    "#### 2º Passo - Subir a base de dados"
   ]
  },
  {
   "cell_type": "code",
   "execution_count": 2,
   "metadata": {},
   "outputs": [],
   "source": [
    "filename = r'C:\\Users\\gabri\\OneDrive\\Área de Trabalho\\FATEC\\API - 1 sem\\perfil_eleitor_secao_ATUAL_SP.csv'\n",
    "\n",
    "df = pd.read_csv(filename, delimiter=';', encoding='Latin-1',\n",
    "                 error_bad_lines=False)\n"
   ]
  },
  {
   "cell_type": "markdown",
   "metadata": {},
   "source": [
    "Essa segunda base de dados será para colher as informações sobre o bairro da seção de votação. Essa informação será necessária para dividir em regiões da cidade"
   ]
  },
  {
   "cell_type": "code",
   "execution_count": 3,
   "metadata": {},
   "outputs": [],
   "source": [
    "filename = r'C:\\Users\\gabri\\OneDrive\\Área de Trabalho\\FATEC\\API - 1 sem\\eleitorado_local_votacao_2020.csv'\n",
    "\n",
    "df_bairro = pd.read_csv(filename, delimiter=';', encoding='Latin-1',\n",
    "                 error_bad_lines=False)\n"
   ]
  },
  {
   "cell_type": "markdown",
   "metadata": {},
   "source": [
    "#### 3º Passo - Fazer limpeza e tratamento dos dados"
   ]
  },
  {
   "cell_type": "markdown",
   "metadata": {},
   "source": [
    "Checar informações"
   ]
  },
  {
   "cell_type": "code",
   "execution_count": 4,
   "metadata": {},
   "outputs": [
    {
     "data": {
      "text/html": [
       "<div>\n",
       "<style scoped>\n",
       "    .dataframe tbody tr th:only-of-type {\n",
       "        vertical-align: middle;\n",
       "    }\n",
       "\n",
       "    .dataframe tbody tr th {\n",
       "        vertical-align: top;\n",
       "    }\n",
       "\n",
       "    .dataframe thead th {\n",
       "        text-align: right;\n",
       "    }\n",
       "</style>\n",
       "<table border=\"1\" class=\"dataframe\">\n",
       "  <thead>\n",
       "    <tr style=\"text-align: right;\">\n",
       "      <th></th>\n",
       "      <th>0</th>\n",
       "      <th>1</th>\n",
       "      <th>2</th>\n",
       "      <th>3</th>\n",
       "      <th>4</th>\n",
       "    </tr>\n",
       "  </thead>\n",
       "  <tbody>\n",
       "    <tr>\n",
       "      <th>DT_GERACAO</th>\n",
       "      <td>09/04/2021</td>\n",
       "      <td>09/04/2021</td>\n",
       "      <td>09/04/2021</td>\n",
       "      <td>09/04/2021</td>\n",
       "      <td>09/04/2021</td>\n",
       "    </tr>\n",
       "    <tr>\n",
       "      <th>HH_GERACAO</th>\n",
       "      <td>11:52:18</td>\n",
       "      <td>11:52:18</td>\n",
       "      <td>11:52:18</td>\n",
       "      <td>11:52:18</td>\n",
       "      <td>11:52:18</td>\n",
       "    </tr>\n",
       "    <tr>\n",
       "      <th>ANO_ELEICAO</th>\n",
       "      <td>9999</td>\n",
       "      <td>9999</td>\n",
       "      <td>9999</td>\n",
       "      <td>9999</td>\n",
       "      <td>9999</td>\n",
       "    </tr>\n",
       "    <tr>\n",
       "      <th>SG_UF</th>\n",
       "      <td>SP</td>\n",
       "      <td>SP</td>\n",
       "      <td>SP</td>\n",
       "      <td>SP</td>\n",
       "      <td>SP</td>\n",
       "    </tr>\n",
       "    <tr>\n",
       "      <th>CD_MUNICIPIO</th>\n",
       "      <td>63134</td>\n",
       "      <td>63134</td>\n",
       "      <td>63134</td>\n",
       "      <td>63134</td>\n",
       "      <td>63134</td>\n",
       "    </tr>\n",
       "    <tr>\n",
       "      <th>NM_MUNICIPIO</th>\n",
       "      <td>CARAPICUÍBA</td>\n",
       "      <td>CARAPICUÍBA</td>\n",
       "      <td>CARAPICUÍBA</td>\n",
       "      <td>CARAPICUÍBA</td>\n",
       "      <td>CARAPICUÍBA</td>\n",
       "    </tr>\n",
       "    <tr>\n",
       "      <th>CD_MUN_SIT_BIOMETRIA</th>\n",
       "      <td>-2</td>\n",
       "      <td>-2</td>\n",
       "      <td>-2</td>\n",
       "      <td>-2</td>\n",
       "      <td>-2</td>\n",
       "    </tr>\n",
       "    <tr>\n",
       "      <th>DS_MUN_SIT_BIOMETRIA</th>\n",
       "      <td>Não se aplica</td>\n",
       "      <td>Não se aplica</td>\n",
       "      <td>Não se aplica</td>\n",
       "      <td>Não se aplica</td>\n",
       "      <td>Não se aplica</td>\n",
       "    </tr>\n",
       "    <tr>\n",
       "      <th>NR_ZONA</th>\n",
       "      <td>303</td>\n",
       "      <td>303</td>\n",
       "      <td>303</td>\n",
       "      <td>303</td>\n",
       "      <td>303</td>\n",
       "    </tr>\n",
       "    <tr>\n",
       "      <th>NR_SECAO</th>\n",
       "      <td>372</td>\n",
       "      <td>372</td>\n",
       "      <td>373</td>\n",
       "      <td>373</td>\n",
       "      <td>373</td>\n",
       "    </tr>\n",
       "    <tr>\n",
       "      <th>CD_GENERO</th>\n",
       "      <td>4</td>\n",
       "      <td>4</td>\n",
       "      <td>2</td>\n",
       "      <td>2</td>\n",
       "      <td>2</td>\n",
       "    </tr>\n",
       "    <tr>\n",
       "      <th>DS_GENERO</th>\n",
       "      <td>FEMININO</td>\n",
       "      <td>FEMININO</td>\n",
       "      <td>MASCULINO</td>\n",
       "      <td>MASCULINO</td>\n",
       "      <td>MASCULINO</td>\n",
       "    </tr>\n",
       "    <tr>\n",
       "      <th>CD_ESTADO_CIVIL</th>\n",
       "      <td>9</td>\n",
       "      <td>9</td>\n",
       "      <td>1</td>\n",
       "      <td>1</td>\n",
       "      <td>1</td>\n",
       "    </tr>\n",
       "    <tr>\n",
       "      <th>DS_ESTADO_CIVIL</th>\n",
       "      <td>DIVORCIADO</td>\n",
       "      <td>DIVORCIADO</td>\n",
       "      <td>SOLTEIRO</td>\n",
       "      <td>SOLTEIRO</td>\n",
       "      <td>SOLTEIRO</td>\n",
       "    </tr>\n",
       "    <tr>\n",
       "      <th>CD_FAIXA_ETARIA</th>\n",
       "      <td>5559</td>\n",
       "      <td>6569</td>\n",
       "      <td>1900</td>\n",
       "      <td>3539</td>\n",
       "      <td>5559</td>\n",
       "    </tr>\n",
       "    <tr>\n",
       "      <th>DS_FAIXA_ETARIA</th>\n",
       "      <td>55 a 59 anos</td>\n",
       "      <td>65 a 69 anos</td>\n",
       "      <td>19 anos</td>\n",
       "      <td>35 a 39 anos</td>\n",
       "      <td>55 a 59 anos</td>\n",
       "    </tr>\n",
       "    <tr>\n",
       "      <th>CD_GRAU_ESCOLARIDADE</th>\n",
       "      <td>6</td>\n",
       "      <td>3</td>\n",
       "      <td>7</td>\n",
       "      <td>3</td>\n",
       "      <td>6</td>\n",
       "    </tr>\n",
       "    <tr>\n",
       "      <th>DS_GRAU_ESCOLARIDADE</th>\n",
       "      <td>ENSINO MÉDIO COMPLETO</td>\n",
       "      <td>ENSINO FUNDAMENTAL INCOMPLETO</td>\n",
       "      <td>SUPERIOR INCOMPLETO</td>\n",
       "      <td>ENSINO FUNDAMENTAL INCOMPLETO</td>\n",
       "      <td>ENSINO MÉDIO COMPLETO</td>\n",
       "    </tr>\n",
       "    <tr>\n",
       "      <th>QT_ELEITORES_PERFIL</th>\n",
       "      <td>1</td>\n",
       "      <td>1</td>\n",
       "      <td>1</td>\n",
       "      <td>4</td>\n",
       "      <td>1</td>\n",
       "    </tr>\n",
       "    <tr>\n",
       "      <th>QT_ELEITORES_BIOMETRIA</th>\n",
       "      <td>1</td>\n",
       "      <td>1</td>\n",
       "      <td>1</td>\n",
       "      <td>0</td>\n",
       "      <td>0</td>\n",
       "    </tr>\n",
       "    <tr>\n",
       "      <th>QT_ELEITORES_DEFICIENCIA</th>\n",
       "      <td>0</td>\n",
       "      <td>0</td>\n",
       "      <td>0</td>\n",
       "      <td>0</td>\n",
       "      <td>0</td>\n",
       "    </tr>\n",
       "    <tr>\n",
       "      <th>QT_ELEITORES_INC_NM_SOCIAL</th>\n",
       "      <td>0</td>\n",
       "      <td>0</td>\n",
       "      <td>0</td>\n",
       "      <td>0</td>\n",
       "      <td>0</td>\n",
       "    </tr>\n",
       "  </tbody>\n",
       "</table>\n",
       "</div>"
      ],
      "text/plain": [
       "                                                         0  \\\n",
       "DT_GERACAO                                      09/04/2021   \n",
       "HH_GERACAO                                        11:52:18   \n",
       "ANO_ELEICAO                                           9999   \n",
       "SG_UF                                                   SP   \n",
       "CD_MUNICIPIO                                         63134   \n",
       "NM_MUNICIPIO                                   CARAPICUÍBA   \n",
       "CD_MUN_SIT_BIOMETRIA                                    -2   \n",
       "DS_MUN_SIT_BIOMETRIA                         Não se aplica   \n",
       "NR_ZONA                                                303   \n",
       "NR_SECAO                                               372   \n",
       "CD_GENERO                                                4   \n",
       "DS_GENERO                                         FEMININO   \n",
       "CD_ESTADO_CIVIL                                          9   \n",
       "DS_ESTADO_CIVIL                                 DIVORCIADO   \n",
       "CD_FAIXA_ETARIA                                       5559   \n",
       "DS_FAIXA_ETARIA             55 a 59 anos                     \n",
       "CD_GRAU_ESCOLARIDADE                                     6   \n",
       "DS_GRAU_ESCOLARIDADE                 ENSINO MÉDIO COMPLETO   \n",
       "QT_ELEITORES_PERFIL                                      1   \n",
       "QT_ELEITORES_BIOMETRIA                                   1   \n",
       "QT_ELEITORES_DEFICIENCIA                                 0   \n",
       "QT_ELEITORES_INC_NM_SOCIAL                               0   \n",
       "\n",
       "                                                         1  \\\n",
       "DT_GERACAO                                      09/04/2021   \n",
       "HH_GERACAO                                        11:52:18   \n",
       "ANO_ELEICAO                                           9999   \n",
       "SG_UF                                                   SP   \n",
       "CD_MUNICIPIO                                         63134   \n",
       "NM_MUNICIPIO                                   CARAPICUÍBA   \n",
       "CD_MUN_SIT_BIOMETRIA                                    -2   \n",
       "DS_MUN_SIT_BIOMETRIA                         Não se aplica   \n",
       "NR_ZONA                                                303   \n",
       "NR_SECAO                                               372   \n",
       "CD_GENERO                                                4   \n",
       "DS_GENERO                                         FEMININO   \n",
       "CD_ESTADO_CIVIL                                          9   \n",
       "DS_ESTADO_CIVIL                                 DIVORCIADO   \n",
       "CD_FAIXA_ETARIA                                       6569   \n",
       "DS_FAIXA_ETARIA             65 a 69 anos                     \n",
       "CD_GRAU_ESCOLARIDADE                                     3   \n",
       "DS_GRAU_ESCOLARIDADE         ENSINO FUNDAMENTAL INCOMPLETO   \n",
       "QT_ELEITORES_PERFIL                                      1   \n",
       "QT_ELEITORES_BIOMETRIA                                   1   \n",
       "QT_ELEITORES_DEFICIENCIA                                 0   \n",
       "QT_ELEITORES_INC_NM_SOCIAL                               0   \n",
       "\n",
       "                                                         2  \\\n",
       "DT_GERACAO                                      09/04/2021   \n",
       "HH_GERACAO                                        11:52:18   \n",
       "ANO_ELEICAO                                           9999   \n",
       "SG_UF                                                   SP   \n",
       "CD_MUNICIPIO                                         63134   \n",
       "NM_MUNICIPIO                                   CARAPICUÍBA   \n",
       "CD_MUN_SIT_BIOMETRIA                                    -2   \n",
       "DS_MUN_SIT_BIOMETRIA                         Não se aplica   \n",
       "NR_ZONA                                                303   \n",
       "NR_SECAO                                               373   \n",
       "CD_GENERO                                                2   \n",
       "DS_GENERO                                        MASCULINO   \n",
       "CD_ESTADO_CIVIL                                          1   \n",
       "DS_ESTADO_CIVIL                                   SOLTEIRO   \n",
       "CD_FAIXA_ETARIA                                       1900   \n",
       "DS_FAIXA_ETARIA             19 anos                          \n",
       "CD_GRAU_ESCOLARIDADE                                     7   \n",
       "DS_GRAU_ESCOLARIDADE                   SUPERIOR INCOMPLETO   \n",
       "QT_ELEITORES_PERFIL                                      1   \n",
       "QT_ELEITORES_BIOMETRIA                                   1   \n",
       "QT_ELEITORES_DEFICIENCIA                                 0   \n",
       "QT_ELEITORES_INC_NM_SOCIAL                               0   \n",
       "\n",
       "                                                         3  \\\n",
       "DT_GERACAO                                      09/04/2021   \n",
       "HH_GERACAO                                        11:52:18   \n",
       "ANO_ELEICAO                                           9999   \n",
       "SG_UF                                                   SP   \n",
       "CD_MUNICIPIO                                         63134   \n",
       "NM_MUNICIPIO                                   CARAPICUÍBA   \n",
       "CD_MUN_SIT_BIOMETRIA                                    -2   \n",
       "DS_MUN_SIT_BIOMETRIA                         Não se aplica   \n",
       "NR_ZONA                                                303   \n",
       "NR_SECAO                                               373   \n",
       "CD_GENERO                                                2   \n",
       "DS_GENERO                                        MASCULINO   \n",
       "CD_ESTADO_CIVIL                                          1   \n",
       "DS_ESTADO_CIVIL                                   SOLTEIRO   \n",
       "CD_FAIXA_ETARIA                                       3539   \n",
       "DS_FAIXA_ETARIA             35 a 39 anos                     \n",
       "CD_GRAU_ESCOLARIDADE                                     3   \n",
       "DS_GRAU_ESCOLARIDADE         ENSINO FUNDAMENTAL INCOMPLETO   \n",
       "QT_ELEITORES_PERFIL                                      4   \n",
       "QT_ELEITORES_BIOMETRIA                                   0   \n",
       "QT_ELEITORES_DEFICIENCIA                                 0   \n",
       "QT_ELEITORES_INC_NM_SOCIAL                               0   \n",
       "\n",
       "                                                         4  \n",
       "DT_GERACAO                                      09/04/2021  \n",
       "HH_GERACAO                                        11:52:18  \n",
       "ANO_ELEICAO                                           9999  \n",
       "SG_UF                                                   SP  \n",
       "CD_MUNICIPIO                                         63134  \n",
       "NM_MUNICIPIO                                   CARAPICUÍBA  \n",
       "CD_MUN_SIT_BIOMETRIA                                    -2  \n",
       "DS_MUN_SIT_BIOMETRIA                         Não se aplica  \n",
       "NR_ZONA                                                303  \n",
       "NR_SECAO                                               373  \n",
       "CD_GENERO                                                2  \n",
       "DS_GENERO                                        MASCULINO  \n",
       "CD_ESTADO_CIVIL                                          1  \n",
       "DS_ESTADO_CIVIL                                   SOLTEIRO  \n",
       "CD_FAIXA_ETARIA                                       5559  \n",
       "DS_FAIXA_ETARIA             55 a 59 anos                    \n",
       "CD_GRAU_ESCOLARIDADE                                     6  \n",
       "DS_GRAU_ESCOLARIDADE                 ENSINO MÉDIO COMPLETO  \n",
       "QT_ELEITORES_PERFIL                                      1  \n",
       "QT_ELEITORES_BIOMETRIA                                   0  \n",
       "QT_ELEITORES_DEFICIENCIA                                 0  \n",
       "QT_ELEITORES_INC_NM_SOCIAL                               0  "
      ]
     },
     "execution_count": 4,
     "metadata": {},
     "output_type": "execute_result"
    }
   ],
   "source": [
    "df.head().T #para visualizar o começo da base de dados"
   ]
  },
  {
   "cell_type": "code",
   "execution_count": 5,
   "metadata": {},
   "outputs": [
    {
     "name": "stdout",
     "output_type": "stream",
     "text": [
      "<class 'pandas.core.frame.DataFrame'>\n",
      "RangeIndex: 15298684 entries, 0 to 15298683\n",
      "Data columns (total 22 columns):\n",
      " #   Column                      Dtype \n",
      "---  ------                      ----- \n",
      " 0   DT_GERACAO                  object\n",
      " 1   HH_GERACAO                  object\n",
      " 2   ANO_ELEICAO                 int64 \n",
      " 3   SG_UF                       object\n",
      " 4   CD_MUNICIPIO                int64 \n",
      " 5   NM_MUNICIPIO                object\n",
      " 6   CD_MUN_SIT_BIOMETRIA        int64 \n",
      " 7   DS_MUN_SIT_BIOMETRIA        object\n",
      " 8   NR_ZONA                     int64 \n",
      " 9   NR_SECAO                    int64 \n",
      " 10  CD_GENERO                   int64 \n",
      " 11  DS_GENERO                   object\n",
      " 12  CD_ESTADO_CIVIL             int64 \n",
      " 13  DS_ESTADO_CIVIL             object\n",
      " 14  CD_FAIXA_ETARIA             int64 \n",
      " 15  DS_FAIXA_ETARIA             object\n",
      " 16  CD_GRAU_ESCOLARIDADE        int64 \n",
      " 17  DS_GRAU_ESCOLARIDADE        object\n",
      " 18  QT_ELEITORES_PERFIL         int64 \n",
      " 19  QT_ELEITORES_BIOMETRIA      int64 \n",
      " 20  QT_ELEITORES_DEFICIENCIA    int64 \n",
      " 21  QT_ELEITORES_INC_NM_SOCIAL  int64 \n",
      "dtypes: int64(13), object(9)\n",
      "memory usage: 2.5+ GB\n"
     ]
    }
   ],
   "source": [
    "df.info() #para obter informações da base de dados"
   ]
  },
  {
   "cell_type": "code",
   "execution_count": 6,
   "metadata": {},
   "outputs": [
    {
     "data": {
      "text/html": [
       "<div>\n",
       "<style scoped>\n",
       "    .dataframe tbody tr th:only-of-type {\n",
       "        vertical-align: middle;\n",
       "    }\n",
       "\n",
       "    .dataframe tbody tr th {\n",
       "        vertical-align: top;\n",
       "    }\n",
       "\n",
       "    .dataframe thead th {\n",
       "        text-align: right;\n",
       "    }\n",
       "</style>\n",
       "<table border=\"1\" class=\"dataframe\">\n",
       "  <thead>\n",
       "    <tr style=\"text-align: right;\">\n",
       "      <th></th>\n",
       "      <th>ANO_ELEICAO</th>\n",
       "      <th>CD_MUNICIPIO</th>\n",
       "      <th>CD_MUN_SIT_BIOMETRIA</th>\n",
       "      <th>NR_ZONA</th>\n",
       "      <th>NR_SECAO</th>\n",
       "      <th>CD_GENERO</th>\n",
       "      <th>CD_ESTADO_CIVIL</th>\n",
       "      <th>CD_FAIXA_ETARIA</th>\n",
       "      <th>CD_GRAU_ESCOLARIDADE</th>\n",
       "      <th>QT_ELEITORES_PERFIL</th>\n",
       "      <th>QT_ELEITORES_BIOMETRIA</th>\n",
       "      <th>QT_ELEITORES_DEFICIENCIA</th>\n",
       "      <th>QT_ELEITORES_INC_NM_SOCIAL</th>\n",
       "    </tr>\n",
       "  </thead>\n",
       "  <tbody>\n",
       "    <tr>\n",
       "      <th>count</th>\n",
       "      <td>15298684.0</td>\n",
       "      <td>1.529868e+07</td>\n",
       "      <td>15298684.0</td>\n",
       "      <td>1.529868e+07</td>\n",
       "      <td>1.529868e+07</td>\n",
       "      <td>1.529868e+07</td>\n",
       "      <td>1.529868e+07</td>\n",
       "      <td>1.529868e+07</td>\n",
       "      <td>1.529868e+07</td>\n",
       "      <td>1.529868e+07</td>\n",
       "      <td>1.529868e+07</td>\n",
       "      <td>1.529868e+07</td>\n",
       "      <td>1.529868e+07</td>\n",
       "    </tr>\n",
       "    <tr>\n",
       "      <th>mean</th>\n",
       "      <td>9999.0</td>\n",
       "      <td>6.801387e+04</td>\n",
       "      <td>-2.0</td>\n",
       "      <td>2.415485e+02</td>\n",
       "      <td>2.012442e+02</td>\n",
       "      <td>3.084629e+00</td>\n",
       "      <td>2.905965e+00</td>\n",
       "      <td>4.743673e+03</td>\n",
       "      <td>5.011753e+00</td>\n",
       "      <td>2.069630e+00</td>\n",
       "      <td>1.536280e+00</td>\n",
       "      <td>2.634501e-02</td>\n",
       "      <td>2.450538e-04</td>\n",
       "    </tr>\n",
       "    <tr>\n",
       "      <th>std</th>\n",
       "      <td>0.0</td>\n",
       "      <td>3.475809e+03</td>\n",
       "      <td>0.0</td>\n",
       "      <td>1.289606e+02</td>\n",
       "      <td>1.683121e+02</td>\n",
       "      <td>9.998515e-01</td>\n",
       "      <td>2.371348e+00</td>\n",
       "      <td>1.755238e+03</td>\n",
       "      <td>1.981820e+00</td>\n",
       "      <td>2.468034e+00</td>\n",
       "      <td>1.933266e+00</td>\n",
       "      <td>1.901055e-01</td>\n",
       "      <td>1.568148e-02</td>\n",
       "    </tr>\n",
       "    <tr>\n",
       "      <th>min</th>\n",
       "      <td>9999.0</td>\n",
       "      <td>6.100000e+04</td>\n",
       "      <td>-2.0</td>\n",
       "      <td>1.000000e+00</td>\n",
       "      <td>1.000000e+00</td>\n",
       "      <td>0.000000e+00</td>\n",
       "      <td>0.000000e+00</td>\n",
       "      <td>-3.000000e+00</td>\n",
       "      <td>1.000000e+00</td>\n",
       "      <td>1.000000e+00</td>\n",
       "      <td>0.000000e+00</td>\n",
       "      <td>0.000000e+00</td>\n",
       "      <td>0.000000e+00</td>\n",
       "    </tr>\n",
       "    <tr>\n",
       "      <th>25%</th>\n",
       "      <td>9999.0</td>\n",
       "      <td>6.477700e+04</td>\n",
       "      <td>-2.0</td>\n",
       "      <td>1.320000e+02</td>\n",
       "      <td>6.900000e+01</td>\n",
       "      <td>2.000000e+00</td>\n",
       "      <td>1.000000e+00</td>\n",
       "      <td>3.539000e+03</td>\n",
       "      <td>3.000000e+00</td>\n",
       "      <td>1.000000e+00</td>\n",
       "      <td>1.000000e+00</td>\n",
       "      <td>0.000000e+00</td>\n",
       "      <td>0.000000e+00</td>\n",
       "    </tr>\n",
       "    <tr>\n",
       "      <th>50%</th>\n",
       "      <td>9999.0</td>\n",
       "      <td>6.961200e+04</td>\n",
       "      <td>-2.0</td>\n",
       "      <td>2.600000e+02</td>\n",
       "      <td>1.590000e+02</td>\n",
       "      <td>4.000000e+00</td>\n",
       "      <td>3.000000e+00</td>\n",
       "      <td>4.549000e+03</td>\n",
       "      <td>5.000000e+00</td>\n",
       "      <td>1.000000e+00</td>\n",
       "      <td>1.000000e+00</td>\n",
       "      <td>0.000000e+00</td>\n",
       "      <td>0.000000e+00</td>\n",
       "    </tr>\n",
       "    <tr>\n",
       "      <th>75%</th>\n",
       "      <td>9999.0</td>\n",
       "      <td>7.107200e+04</td>\n",
       "      <td>-2.0</td>\n",
       "      <td>3.580000e+02</td>\n",
       "      <td>2.910000e+02</td>\n",
       "      <td>4.000000e+00</td>\n",
       "      <td>3.000000e+00</td>\n",
       "      <td>6.064000e+03</td>\n",
       "      <td>6.000000e+00</td>\n",
       "      <td>2.000000e+00</td>\n",
       "      <td>2.000000e+00</td>\n",
       "      <td>0.000000e+00</td>\n",
       "      <td>0.000000e+00</td>\n",
       "    </tr>\n",
       "    <tr>\n",
       "      <th>max</th>\n",
       "      <td>9999.0</td>\n",
       "      <td>7.273700e+04</td>\n",
       "      <td>-2.0</td>\n",
       "      <td>4.270000e+02</td>\n",
       "      <td>1.045000e+03</td>\n",
       "      <td>4.000000e+00</td>\n",
       "      <td>9.000000e+00</td>\n",
       "      <td>9.999000e+03</td>\n",
       "      <td>8.000000e+00</td>\n",
       "      <td>8.700000e+01</td>\n",
       "      <td>7.500000e+01</td>\n",
       "      <td>3.000000e+01</td>\n",
       "      <td>2.000000e+00</td>\n",
       "    </tr>\n",
       "  </tbody>\n",
       "</table>\n",
       "</div>"
      ],
      "text/plain": [
       "       ANO_ELEICAO  CD_MUNICIPIO  CD_MUN_SIT_BIOMETRIA       NR_ZONA  \\\n",
       "count   15298684.0  1.529868e+07            15298684.0  1.529868e+07   \n",
       "mean        9999.0  6.801387e+04                  -2.0  2.415485e+02   \n",
       "std            0.0  3.475809e+03                   0.0  1.289606e+02   \n",
       "min         9999.0  6.100000e+04                  -2.0  1.000000e+00   \n",
       "25%         9999.0  6.477700e+04                  -2.0  1.320000e+02   \n",
       "50%         9999.0  6.961200e+04                  -2.0  2.600000e+02   \n",
       "75%         9999.0  7.107200e+04                  -2.0  3.580000e+02   \n",
       "max         9999.0  7.273700e+04                  -2.0  4.270000e+02   \n",
       "\n",
       "           NR_SECAO     CD_GENERO  CD_ESTADO_CIVIL  CD_FAIXA_ETARIA  \\\n",
       "count  1.529868e+07  1.529868e+07     1.529868e+07     1.529868e+07   \n",
       "mean   2.012442e+02  3.084629e+00     2.905965e+00     4.743673e+03   \n",
       "std    1.683121e+02  9.998515e-01     2.371348e+00     1.755238e+03   \n",
       "min    1.000000e+00  0.000000e+00     0.000000e+00    -3.000000e+00   \n",
       "25%    6.900000e+01  2.000000e+00     1.000000e+00     3.539000e+03   \n",
       "50%    1.590000e+02  4.000000e+00     3.000000e+00     4.549000e+03   \n",
       "75%    2.910000e+02  4.000000e+00     3.000000e+00     6.064000e+03   \n",
       "max    1.045000e+03  4.000000e+00     9.000000e+00     9.999000e+03   \n",
       "\n",
       "       CD_GRAU_ESCOLARIDADE  QT_ELEITORES_PERFIL  QT_ELEITORES_BIOMETRIA  \\\n",
       "count          1.529868e+07         1.529868e+07            1.529868e+07   \n",
       "mean           5.011753e+00         2.069630e+00            1.536280e+00   \n",
       "std            1.981820e+00         2.468034e+00            1.933266e+00   \n",
       "min            1.000000e+00         1.000000e+00            0.000000e+00   \n",
       "25%            3.000000e+00         1.000000e+00            1.000000e+00   \n",
       "50%            5.000000e+00         1.000000e+00            1.000000e+00   \n",
       "75%            6.000000e+00         2.000000e+00            2.000000e+00   \n",
       "max            8.000000e+00         8.700000e+01            7.500000e+01   \n",
       "\n",
       "       QT_ELEITORES_DEFICIENCIA  QT_ELEITORES_INC_NM_SOCIAL  \n",
       "count              1.529868e+07                1.529868e+07  \n",
       "mean               2.634501e-02                2.450538e-04  \n",
       "std                1.901055e-01                1.568148e-02  \n",
       "min                0.000000e+00                0.000000e+00  \n",
       "25%                0.000000e+00                0.000000e+00  \n",
       "50%                0.000000e+00                0.000000e+00  \n",
       "75%                0.000000e+00                0.000000e+00  \n",
       "max                3.000000e+01                2.000000e+00  "
      ]
     },
     "execution_count": 6,
     "metadata": {},
     "output_type": "execute_result"
    }
   ],
   "source": [
    "df.describe() #para ver um descrição mais detalhada "
   ]
  },
  {
   "cell_type": "markdown",
   "metadata": {},
   "source": [
    "Limpando informações duplicadas"
   ]
  },
  {
   "cell_type": "code",
   "execution_count": 7,
   "metadata": {},
   "outputs": [],
   "source": [
    "df.drop_duplicates(keep='first', inplace=True) "
   ]
  },
  {
   "cell_type": "markdown",
   "metadata": {},
   "source": [
    "Excluindo dados faltantes"
   ]
  },
  {
   "cell_type": "code",
   "execution_count": 8,
   "metadata": {},
   "outputs": [],
   "source": [
    "df.dropna(inplace=True)"
   ]
  },
  {
   "cell_type": "markdown",
   "metadata": {},
   "source": [
    "#### 4º Passo -  Aplicar filtros e parâmetros"
   ]
  },
  {
   "cell_type": "markdown",
   "metadata": {},
   "source": [
    "#### Cidades que serão analisadas"
   ]
  },
  {
   "cell_type": "code",
   "execution_count": 9,
   "metadata": {},
   "outputs": [],
   "source": [
    "\n",
    "sjc = df.query('NM_MUNICIPIO == \"SÃO JOSÉ DOS CAMPOS\"')\n",
    "tbt = df.query('NM_MUNICIPIO == \"TAUBATÉ\"')\n",
    "pinda = df.query('NM_MUNICIPIO == \"PINDAMONHANGABA\"')\n",
    "caragua = df.query('NM_MUNICIPIO == \"CARAGUATATUBA\"')\n",
    "jac = df.query('NM_MUNICIPIO == \"JACAREÍ\"')\n"
   ]
  },
  {
   "cell_type": "markdown",
   "metadata": {},
   "source": [
    "#### Inserindo uma nova coluna com o nome do bairro"
   ]
  },
  {
   "cell_type": "code",
   "execution_count": 11,
   "metadata": {},
   "outputs": [],
   "source": [
    "secao = ['NR_SECAO','NM_BAIRRO','NM_MUNICIPIO']"
   ]
  },
  {
   "cell_type": "code",
   "execution_count": 12,
   "metadata": {},
   "outputs": [],
   "source": [
    "df_bairro = df_bairro.filter(items=secao)"
   ]
  },
  {
   "cell_type": "code",
   "execution_count": 13,
   "metadata": {},
   "outputs": [],
   "source": [
    "sjcampos = df_bairro.query('NM_MUNICIPIO == \"SÃO JOSÉ DOS CAMPOS\"')\n",
    "taubate = df_bairro.query('NM_MUNICIPIO == \"TAUBATÉ\"')\n",
    "pindamo = df_bairro.query('NM_MUNICIPIO == \"PINDAMONHANGABA\"')\n",
    "caraguatatuba = df_bairro.query('NM_MUNICIPIO == \"CARAGUATATUBA\"')\n",
    "jacarei = df_bairro.query('NM_MUNICIPIO == \"JACAREÍ\"')\n",
    "\n"
   ]
  },
  {
   "cell_type": "code",
   "execution_count": 14,
   "metadata": {},
   "outputs": [],
   "source": [
    "sjc = pd.merge(sjc, sjcampos, on='NR_SECAO')\n",
    "tbt = pd.merge(tbt,taubate, on='NR_SECAO')\n",
    "pinda = pd.merge(pinda , pindamo, on='NR_SECAO')\n",
    "caragua = pd.merge(caragua, caraguatatuba, on='NR_SECAO')\n",
    "jac = pd.merge(jac, jacarei, on='NR_SECAO')"
   ]
  },
  {
   "cell_type": "code",
   "execution_count": 15,
   "metadata": {},
   "outputs": [],
   "source": [
    "sjc.drop(columns=['NM_MUNICIPIO_y'], inplace=True)\n",
    "tbt.drop(columns=['NM_MUNICIPIO_y'], inplace=True)\n",
    "pinda.drop(columns=['NM_MUNICIPIO_y'], inplace=True)\n",
    "caragua.drop(columns=['NM_MUNICIPIO_y'], inplace=True)\n",
    "jac.drop(columns=['NM_MUNICIPIO_y'], inplace=True)"
   ]
  },
  {
   "cell_type": "code",
   "execution_count": 21,
   "metadata": {},
   "outputs": [],
   "source": [
    "sjc.rename(columns={'NM_MUNICIPIO_x': 'NM_MUNICIPIO', }, inplace=True)\n",
    "tbt.rename(columns={'NM_MUNICIPIO_x': 'NM_MUNICIPIO', }, inplace=True)\n",
    "pinda.rename(columns={'NM_MUNICIPIO_x': 'NM_MUNICIPIO', }, inplace=True)\n",
    "caragua.rename(columns={'NM_MUNICIPIO_x': 'NM_MUNICIPIO', }, inplace=True)\n",
    "jac.rename(columns={'NM_MUNICIPIO_x': 'NM_MUNICIPIO', }, inplace=True)"
   ]
  },
  {
   "cell_type": "markdown",
   "metadata": {},
   "source": [
    "#### Idade"
   ]
  },
  {
   "cell_type": "code",
   "execution_count": 75,
   "metadata": {},
   "outputs": [],
   "source": [
    "idade = ['DS_FAIXA_ETARIA','NM_MUNICIPIO']\n"
   ]
  },
  {
   "cell_type": "code",
   "execution_count": 76,
   "metadata": {},
   "outputs": [],
   "source": [
    "faixaEtariaSJC = sjc.filter(items=idade).groupby('DS_FAIXA_ETARIA').count().sort_values(by = 'NM_MUNICIPIO',ascending=False)\n",
    "faixaEtariaTaubate = tbt.filter(items=idade).groupby('DS_FAIXA_ETARIA').count().sort_values(by = 'NM_MUNICIPIO',ascending=False)\n",
    "faixaEtariaPinda = pinda.filter(items=idade).groupby('DS_FAIXA_ETARIA').count().sort_values(by = 'NM_MUNICIPIO',ascending=False)\n",
    "faixaEtariaCaragua = caragua.filter(items=idade).groupby('DS_FAIXA_ETARIA').count().sort_values(by = 'NM_MUNICIPIO',ascending=False)\n",
    "faixaEtariaJacarei = jac.filter(items=idade).groupby('DS_FAIXA_ETARIA').count().sort_values(by = 'NM_MUNICIPIO',ascending=False)"
   ]
  },
  {
   "cell_type": "code",
   "execution_count": 77,
   "metadata": {},
   "outputs": [
    {
     "data": {
      "text/html": [
       "<div>\n",
       "<style scoped>\n",
       "    .dataframe tbody tr th:only-of-type {\n",
       "        vertical-align: middle;\n",
       "    }\n",
       "\n",
       "    .dataframe tbody tr th {\n",
       "        vertical-align: top;\n",
       "    }\n",
       "\n",
       "    .dataframe thead th {\n",
       "        text-align: right;\n",
       "    }\n",
       "</style>\n",
       "<table border=\"1\" class=\"dataframe\">\n",
       "  <thead>\n",
       "    <tr style=\"text-align: right;\">\n",
       "      <th></th>\n",
       "      <th>NM_MUNICIPIO</th>\n",
       "    </tr>\n",
       "    <tr>\n",
       "      <th>DS_FAIXA_ETARIA</th>\n",
       "      <th></th>\n",
       "    </tr>\n",
       "  </thead>\n",
       "  <tbody>\n",
       "    <tr>\n",
       "      <th>55 a 59 anos</th>\n",
       "      <td>60120</td>\n",
       "    </tr>\n",
       "    <tr>\n",
       "      <th>50 a 54 anos</th>\n",
       "      <td>59213</td>\n",
       "    </tr>\n",
       "    <tr>\n",
       "      <th>45 a 49 anos</th>\n",
       "      <td>58822</td>\n",
       "    </tr>\n",
       "    <tr>\n",
       "      <th>40 a 44 anos</th>\n",
       "      <td>58060</td>\n",
       "    </tr>\n",
       "    <tr>\n",
       "      <th>60 a 64 anos</th>\n",
       "      <td>55059</td>\n",
       "    </tr>\n",
       "    <tr>\n",
       "      <th>35 a 39 anos</th>\n",
       "      <td>53791</td>\n",
       "    </tr>\n",
       "    <tr>\n",
       "      <th>30 a 34 anos</th>\n",
       "      <td>47183</td>\n",
       "    </tr>\n",
       "    <tr>\n",
       "      <th>65 a 69 anos</th>\n",
       "      <td>44862</td>\n",
       "    </tr>\n",
       "    <tr>\n",
       "      <th>25 a 29 anos</th>\n",
       "      <td>42519</td>\n",
       "    </tr>\n",
       "    <tr>\n",
       "      <th>70 a 74 anos</th>\n",
       "      <td>29005</td>\n",
       "    </tr>\n",
       "    <tr>\n",
       "      <th>21 a 24 anos</th>\n",
       "      <td>28438</td>\n",
       "    </tr>\n",
       "    <tr>\n",
       "      <th>75 a 79 anos</th>\n",
       "      <td>13513</td>\n",
       "    </tr>\n",
       "    <tr>\n",
       "      <th>20 anos</th>\n",
       "      <td>12384</td>\n",
       "    </tr>\n",
       "    <tr>\n",
       "      <th>19 anos</th>\n",
       "      <td>11006</td>\n",
       "    </tr>\n",
       "    <tr>\n",
       "      <th>18 anos</th>\n",
       "      <td>7071</td>\n",
       "    </tr>\n",
       "    <tr>\n",
       "      <th>80 a 84 anos</th>\n",
       "      <td>5644</td>\n",
       "    </tr>\n",
       "    <tr>\n",
       "      <th>17 anos</th>\n",
       "      <td>2609</td>\n",
       "    </tr>\n",
       "    <tr>\n",
       "      <th>85 a 89 anos</th>\n",
       "      <td>1966</td>\n",
       "    </tr>\n",
       "    <tr>\n",
       "      <th>90 a 94 anos</th>\n",
       "      <td>491</td>\n",
       "    </tr>\n",
       "    <tr>\n",
       "      <th>16 anos</th>\n",
       "      <td>184</td>\n",
       "    </tr>\n",
       "    <tr>\n",
       "      <th>95 a 99 anos</th>\n",
       "      <td>88</td>\n",
       "    </tr>\n",
       "    <tr>\n",
       "      <th>Inválido</th>\n",
       "      <td>2</td>\n",
       "    </tr>\n",
       "  </tbody>\n",
       "</table>\n",
       "</div>"
      ],
      "text/plain": [
       "                                NM_MUNICIPIO\n",
       "DS_FAIXA_ETARIA                             \n",
       "55 a 59 anos                           60120\n",
       "50 a 54 anos                           59213\n",
       "45 a 49 anos                           58822\n",
       "40 a 44 anos                           58060\n",
       "60 a 64 anos                           55059\n",
       "35 a 39 anos                           53791\n",
       "30 a 34 anos                           47183\n",
       "65 a 69 anos                           44862\n",
       "25 a 29 anos                           42519\n",
       "70 a 74 anos                           29005\n",
       "21 a 24 anos                           28438\n",
       "75 a 79 anos                           13513\n",
       "20 anos                                12384\n",
       "19 anos                                11006\n",
       "18 anos                                 7071\n",
       "80 a 84 anos                            5644\n",
       "17 anos                                 2609\n",
       "85 a 89 anos                            1966\n",
       "90 a 94 anos                             491\n",
       "16 anos                                  184\n",
       "95 a 99 anos                              88\n",
       "Inválido                                   2"
      ]
     },
     "execution_count": 77,
     "metadata": {},
     "output_type": "execute_result"
    }
   ],
   "source": [
    "faixaEtariaSJC"
   ]
  },
  {
   "cell_type": "markdown",
   "metadata": {},
   "source": [
    "#### Escolaridade\n"
   ]
  },
  {
   "cell_type": "code",
   "execution_count": 25,
   "metadata": {},
   "outputs": [],
   "source": [
    "escolaridade = ['DS_GRAU_ESCOLARIDADE','NM_MUNICIPIO']\n",
    "\n"
   ]
  },
  {
   "cell_type": "code",
   "execution_count": 26,
   "metadata": {},
   "outputs": [],
   "source": [
    "escolaridadeSJC = sjc.filter(items=escolaridade).groupby('DS_GRAU_ESCOLARIDADE').count().sort_values(by = 'NM_MUNICIPIO',ascending=False)\n",
    "escolaridadeTaubate = tbt.filter(items=escolaridade).groupby('DS_GRAU_ESCOLARIDADE').count().sort_values(by = 'NM_MUNICIPIO',ascending=False)\n",
    "escolaridadePinda = pinda.filter(items=escolaridade).groupby('DS_GRAU_ESCOLARIDADE').count().sort_values(by = 'NM_MUNICIPIO',ascending=False)\n",
    "escolaridadeCaragua = caragua.filter(items=escolaridade).groupby('DS_GRAU_ESCOLARIDADE').count().sort_values(by = 'NM_MUNICIPIO',ascending=False)\n",
    "escolaridadeJacarei = jac.filter(items=escolaridade).groupby('DS_GRAU_ESCOLARIDADE').count().sort_values(by = 'NM_MUNICIPIO',ascending=False)"
   ]
  },
  {
   "cell_type": "code",
   "execution_count": 98,
   "metadata": {},
   "outputs": [
    {
     "data": {
      "text/html": [
       "<div>\n",
       "<style scoped>\n",
       "    .dataframe tbody tr th:only-of-type {\n",
       "        vertical-align: middle;\n",
       "    }\n",
       "\n",
       "    .dataframe tbody tr th {\n",
       "        vertical-align: top;\n",
       "    }\n",
       "\n",
       "    .dataframe thead th {\n",
       "        text-align: right;\n",
       "    }\n",
       "</style>\n",
       "<table border=\"1\" class=\"dataframe\">\n",
       "  <thead>\n",
       "    <tr style=\"text-align: right;\">\n",
       "      <th></th>\n",
       "      <th>NM_MUNICIPIO</th>\n",
       "    </tr>\n",
       "    <tr>\n",
       "      <th>DS_GRAU_ESCOLARIDADE</th>\n",
       "      <th></th>\n",
       "    </tr>\n",
       "  </thead>\n",
       "  <tbody>\n",
       "    <tr>\n",
       "      <th>ENSINO MÉDIO COMPLETO</th>\n",
       "      <td>88022</td>\n",
       "    </tr>\n",
       "    <tr>\n",
       "      <th>ENSINO FUNDAMENTAL INCOMPLETO</th>\n",
       "      <td>79806</td>\n",
       "    </tr>\n",
       "    <tr>\n",
       "      <th>SUPERIOR COMPLETO</th>\n",
       "      <td>59896</td>\n",
       "    </tr>\n",
       "    <tr>\n",
       "      <th>ENSINO FUNDAMENTAL COMPLETO</th>\n",
       "      <td>42920</td>\n",
       "    </tr>\n",
       "    <tr>\n",
       "      <th>ENSINO MÉDIO INCOMPLETO</th>\n",
       "      <td>40244</td>\n",
       "    </tr>\n",
       "    <tr>\n",
       "      <th>SUPERIOR INCOMPLETO</th>\n",
       "      <td>29794</td>\n",
       "    </tr>\n",
       "    <tr>\n",
       "      <th>LÊ E ESCREVE</th>\n",
       "      <td>16860</td>\n",
       "    </tr>\n",
       "    <tr>\n",
       "      <th>ANALFABETO</th>\n",
       "      <td>10190</td>\n",
       "    </tr>\n",
       "  </tbody>\n",
       "</table>\n",
       "</div>"
      ],
      "text/plain": [
       "                               NM_MUNICIPIO\n",
       "DS_GRAU_ESCOLARIDADE                       \n",
       "ENSINO MÉDIO COMPLETO                 88022\n",
       "ENSINO FUNDAMENTAL INCOMPLETO         79806\n",
       "SUPERIOR COMPLETO                     59896\n",
       "ENSINO FUNDAMENTAL COMPLETO           42920\n",
       "ENSINO MÉDIO INCOMPLETO               40244\n",
       "SUPERIOR INCOMPLETO                   29794\n",
       "LÊ E ESCREVE                          16860\n",
       "ANALFABETO                            10190"
      ]
     },
     "execution_count": 98,
     "metadata": {},
     "output_type": "execute_result"
    }
   ],
   "source": [
    "escolaridadeTaubate"
   ]
  },
  {
   "cell_type": "markdown",
   "metadata": {},
   "source": [
    "#### Gênero"
   ]
  },
  {
   "cell_type": "code",
   "execution_count": 28,
   "metadata": {},
   "outputs": [],
   "source": [
    "genero = ['DS_GENERO','NM_MUNICIPIO']"
   ]
  },
  {
   "cell_type": "code",
   "execution_count": 29,
   "metadata": {},
   "outputs": [],
   "source": [
    "generoSJC = sjc.filter(items=genero).groupby('DS_GENERO').count().sort_values(by = 'NM_MUNICIPIO',ascending=False)\n",
    "generoTaubate = tbt.filter(items=genero).groupby('DS_GENERO').count().sort_values(by = 'NM_MUNICIPIO',ascending=False)\n",
    "generoPinda = pinda.filter(items=genero).groupby('DS_GENERO').count().sort_values(by = 'NM_MUNICIPIO',ascending=False)\n",
    "generoCaragua = caragua.filter(items=genero).groupby('DS_GENERO').count().sort_values(by = 'NM_MUNICIPIO',ascending=False)\n",
    "generoJacarei = jac.filter(items=genero).groupby('DS_GENERO').count().sort_values(by = 'NM_MUNICIPIO',ascending=False)"
   ]
  },
  {
   "cell_type": "code",
   "execution_count": 99,
   "metadata": {},
   "outputs": [
    {
     "data": {
      "text/html": [
       "<div>\n",
       "<style scoped>\n",
       "    .dataframe tbody tr th:only-of-type {\n",
       "        vertical-align: middle;\n",
       "    }\n",
       "\n",
       "    .dataframe tbody tr th {\n",
       "        vertical-align: top;\n",
       "    }\n",
       "\n",
       "    .dataframe thead th {\n",
       "        text-align: right;\n",
       "    }\n",
       "</style>\n",
       "<table border=\"1\" class=\"dataframe\">\n",
       "  <thead>\n",
       "    <tr style=\"text-align: right;\">\n",
       "      <th></th>\n",
       "      <th>NM_MUNICIPIO</th>\n",
       "    </tr>\n",
       "    <tr>\n",
       "      <th>DS_GENERO</th>\n",
       "      <th></th>\n",
       "    </tr>\n",
       "  </thead>\n",
       "  <tbody>\n",
       "    <tr>\n",
       "      <th>FEMININO</th>\n",
       "      <td>28907</td>\n",
       "    </tr>\n",
       "    <tr>\n",
       "      <th>MASCULINO</th>\n",
       "      <td>24532</td>\n",
       "    </tr>\n",
       "  </tbody>\n",
       "</table>\n",
       "</div>"
      ],
      "text/plain": [
       "           NM_MUNICIPIO\n",
       "DS_GENERO              \n",
       "FEMININO          28907\n",
       "MASCULINO         24532"
      ]
     },
     "execution_count": 99,
     "metadata": {},
     "output_type": "execute_result"
    }
   ],
   "source": [
    "generoPinda"
   ]
  },
  {
   "cell_type": "markdown",
   "metadata": {},
   "source": [
    "#### Estado Civil"
   ]
  },
  {
   "cell_type": "code",
   "execution_count": 31,
   "metadata": {},
   "outputs": [],
   "source": [
    "estado_civil = ['DS_ESTADO_CIVIL','NM_MUNICIPIO']"
   ]
  },
  {
   "cell_type": "code",
   "execution_count": 32,
   "metadata": {},
   "outputs": [],
   "source": [
    "estadoCivilSJC = sjc.filter(items=estado_civil).groupby('DS_ESTADO_CIVIL').count().sort_values(by = 'NM_MUNICIPIO',ascending=False)\n",
    "estadoCivilTaubate = tbt.filter(items=estado_civil).groupby('DS_ESTADO_CIVIL').count().sort_values(by = 'NM_MUNICIPIO',ascending=False)\n",
    "estadoCivilPinda = pinda.filter(items=estado_civil).groupby('DS_ESTADO_CIVIL').count().sort_values(by = 'NM_MUNICIPIO',ascending=False)\n",
    "estadoCivilCaragua = caragua.filter(items=estado_civil).groupby('DS_ESTADO_CIVIL').count().sort_values(by = 'NM_MUNICIPIO',ascending=False)\n",
    "estadoCivilJacarei = jac.filter(items=estado_civil).groupby('DS_ESTADO_CIVIL').count().sort_values(by = 'NM_MUNICIPIO',ascending=False)"
   ]
  },
  {
   "cell_type": "code",
   "execution_count": 101,
   "metadata": {},
   "outputs": [
    {
     "data": {
      "text/html": [
       "<div>\n",
       "<style scoped>\n",
       "    .dataframe tbody tr th:only-of-type {\n",
       "        vertical-align: middle;\n",
       "    }\n",
       "\n",
       "    .dataframe tbody tr th {\n",
       "        vertical-align: top;\n",
       "    }\n",
       "\n",
       "    .dataframe thead th {\n",
       "        text-align: right;\n",
       "    }\n",
       "</style>\n",
       "<table border=\"1\" class=\"dataframe\">\n",
       "  <thead>\n",
       "    <tr style=\"text-align: right;\">\n",
       "      <th></th>\n",
       "      <th>NM_MUNICIPIO</th>\n",
       "    </tr>\n",
       "    <tr>\n",
       "      <th>DS_ESTADO_CIVIL</th>\n",
       "      <th></th>\n",
       "    </tr>\n",
       "  </thead>\n",
       "  <tbody>\n",
       "    <tr>\n",
       "      <th>SOLTEIRO</th>\n",
       "      <td>20180</td>\n",
       "    </tr>\n",
       "    <tr>\n",
       "      <th>CASADO</th>\n",
       "      <td>19356</td>\n",
       "    </tr>\n",
       "    <tr>\n",
       "      <th>DIVORCIADO</th>\n",
       "      <td>5356</td>\n",
       "    </tr>\n",
       "    <tr>\n",
       "      <th>VIÚVO</th>\n",
       "      <td>2464</td>\n",
       "    </tr>\n",
       "    <tr>\n",
       "      <th>SEPARADO JUDICIALMENTE</th>\n",
       "      <td>1453</td>\n",
       "    </tr>\n",
       "  </tbody>\n",
       "</table>\n",
       "</div>"
      ],
      "text/plain": [
       "                        NM_MUNICIPIO\n",
       "DS_ESTADO_CIVIL                     \n",
       "SOLTEIRO                       20180\n",
       "CASADO                         19356\n",
       "DIVORCIADO                      5356\n",
       "VIÚVO                           2464\n",
       "SEPARADO JUDICIALMENTE          1453"
      ]
     },
     "execution_count": 101,
     "metadata": {},
     "output_type": "execute_result"
    }
   ],
   "source": [
    "estadoCivilCaragua"
   ]
  },
  {
   "cell_type": "markdown",
   "metadata": {},
   "source": [
    "#### Nome Social"
   ]
  },
  {
   "cell_type": "code",
   "execution_count": 34,
   "metadata": {},
   "outputs": [],
   "source": [
    "nome_social = ['QT_ELEITORES_INC_NM_SOCIAL','NM_MUNICIPIO']"
   ]
  },
  {
   "cell_type": "code",
   "execution_count": 35,
   "metadata": {},
   "outputs": [],
   "source": [
    "nSocialSJC = sjc.filter(items=nome_social).groupby('QT_ELEITORES_INC_NM_SOCIAL').count().sort_values(by = 'NM_MUNICIPIO',ascending=False)\n",
    "nSocialTaubate = tbt.filter(items=nome_social).groupby('QT_ELEITORES_INC_NM_SOCIAL').count().sort_values(by = 'NM_MUNICIPIO',ascending=False)\n",
    "nSocialPinda = pinda.filter(items=nome_social).groupby('QT_ELEITORES_INC_NM_SOCIAL').count().sort_values(by = 'NM_MUNICIPIO',ascending=False)\n",
    "nSocialCaragua = caragua.filter(items=nome_social).groupby('QT_ELEITORES_INC_NM_SOCIAL').count().sort_values(by = 'NM_MUNICIPIO',ascending=False)\n",
    "nSocialJacarei = jac.filter(items=nome_social).groupby('QT_ELEITORES_INC_NM_SOCIAL').count().sort_values(by = 'NM_MUNICIPIO',ascending=False)"
   ]
  },
  {
   "cell_type": "code",
   "execution_count": 102,
   "metadata": {},
   "outputs": [
    {
     "data": {
      "text/html": [
       "<div>\n",
       "<style scoped>\n",
       "    .dataframe tbody tr th:only-of-type {\n",
       "        vertical-align: middle;\n",
       "    }\n",
       "\n",
       "    .dataframe tbody tr th {\n",
       "        vertical-align: top;\n",
       "    }\n",
       "\n",
       "    .dataframe thead th {\n",
       "        text-align: right;\n",
       "    }\n",
       "</style>\n",
       "<table border=\"1\" class=\"dataframe\">\n",
       "  <thead>\n",
       "    <tr style=\"text-align: right;\">\n",
       "      <th></th>\n",
       "      <th>NM_MUNICIPIO</th>\n",
       "    </tr>\n",
       "    <tr>\n",
       "      <th>QT_ELEITORES_INC_NM_SOCIAL</th>\n",
       "      <th></th>\n",
       "    </tr>\n",
       "  </thead>\n",
       "  <tbody>\n",
       "    <tr>\n",
       "      <th>0</th>\n",
       "      <td>117163</td>\n",
       "    </tr>\n",
       "    <tr>\n",
       "      <th>1</th>\n",
       "      <td>22</td>\n",
       "    </tr>\n",
       "  </tbody>\n",
       "</table>\n",
       "</div>"
      ],
      "text/plain": [
       "                            NM_MUNICIPIO\n",
       "QT_ELEITORES_INC_NM_SOCIAL              \n",
       "0                                 117163\n",
       "1                                     22"
      ]
     },
     "execution_count": 102,
     "metadata": {},
     "output_type": "execute_result"
    }
   ],
   "source": [
    "nSocialJacarei"
   ]
  },
  {
   "cell_type": "markdown",
   "metadata": {},
   "source": [
    "Legenda: \n",
    "\n",
    ">  0 - Não utiliza nome social\n",
    "\n",
    ">  1 - Utiliza nome social"
   ]
  },
  {
   "cell_type": "markdown",
   "metadata": {},
   "source": [
    "#### Eleitores PNE"
   ]
  },
  {
   "cell_type": "code",
   "execution_count": 37,
   "metadata": {},
   "outputs": [],
   "source": [
    "PNESJC = sjc['QT_ELEITORES_DEFICIENCIA'].value_counts()\n",
    "PNETaubate = tbt['QT_ELEITORES_DEFICIENCIA'].value_counts()\n",
    "PNEPinda = pinda['QT_ELEITORES_DEFICIENCIA'].value_counts()\n",
    "PNECaragua = caragua['QT_ELEITORES_DEFICIENCIA'].value_counts()\n",
    "PNEJacarei = jac['QT_ELEITORES_DEFICIENCIA'].value_counts()"
   ]
  },
  {
   "cell_type": "markdown",
   "metadata": {},
   "source": [
    "A função a seguir serve para dividir os dados em: PNE e Não PNE. Os dados estão registrados informando os diversos tipos de necessidaes especiais, a função agrupa todos no grupo PNE e os que não forem são agrupados no grupo Não PNE."
   ]
  },
  {
   "cell_type": "code",
   "execution_count": 38,
   "metadata": {},
   "outputs": [],
   "source": [
    "def PNE(y):\n",
    "    x=0\n",
    "    naotem = 0\n",
    "    for i in y:\n",
    "        i+=1\n",
    "        if y.index[x] == naotem: \n",
    "            nao = y.values[x]\n",
    "            x+=1\n",
    "    return nao"
   ]
  },
  {
   "cell_type": "code",
   "execution_count": 39,
   "metadata": {},
   "outputs": [],
   "source": [
    "naoPossuiSJC = PNE(PNESJC)\n",
    "naoPossuiTaubate = PNE(PNETaubate)\n",
    "naoPossuiPinda = PNE(PNEPinda)\n",
    "naoPossuiCaragua = PNE(PNECaragua)\n",
    "naoPossuiJacarei = PNE(PNEJacarei)\n"
   ]
  },
  {
   "cell_type": "markdown",
   "metadata": {},
   "source": [
    "Para saber quantos possuem, fazemos a diferença entre o total de eleitores PNE e os que não possuem necessidades especiais"
   ]
  },
  {
   "cell_type": "code",
   "execution_count": 40,
   "metadata": {},
   "outputs": [],
   "source": [
    "PossuiSJC = sum(PNESJC) - naoPossuiSJC\n",
    "PossuiTaubate = sum(PNETaubate) - naoPossuiTaubate\n",
    "PossuiPinda = sum(PNEPinda) - naoPossuiPinda\n",
    "PossuiCaragua = sum(PNECaragua) - naoPossuiCaragua\n",
    "PossuiJac = sum(PNEJacarei) - naoPossuiJacarei"
   ]
  },
  {
   "cell_type": "markdown",
   "metadata": {},
   "source": [
    "#### 5º Passo -  Realizar análises"
   ]
  },
  {
   "cell_type": "markdown",
   "metadata": {},
   "source": [
    "### Perfil do Eleitorado de São José dos Campos"
   ]
  },
  {
   "cell_type": "code",
   "execution_count": null,
   "metadata": {},
   "outputs": [],
   "source": [
    "## Aqui estará os gráficos na próxima sprint e as análises feitas por região"
   ]
  },
  {
   "cell_type": "markdown",
   "metadata": {},
   "source": [
    "### Perfil do Eleitorado de Taubaté\n"
   ]
  },
  {
   "cell_type": "code",
   "execution_count": null,
   "metadata": {},
   "outputs": [],
   "source": [
    "## Aqui estará os gráficos na próxima sprint e as análises feitas por região"
   ]
  },
  {
   "cell_type": "markdown",
   "metadata": {},
   "source": [
    "### Perfil do Eleitorado de Jacareí"
   ]
  },
  {
   "cell_type": "code",
   "execution_count": null,
   "metadata": {},
   "outputs": [],
   "source": [
    "## Aqui estará os gráficos na próxima sprint e as análises feitas por região"
   ]
  },
  {
   "cell_type": "markdown",
   "metadata": {},
   "source": [
    "### Perfil do Eleitorado de Pindamonhangaba"
   ]
  },
  {
   "cell_type": "code",
   "execution_count": null,
   "metadata": {},
   "outputs": [],
   "source": [
    "## Aqui estará os gráficos na próxima sprint e as análises feitas por região"
   ]
  },
  {
   "cell_type": "markdown",
   "metadata": {},
   "source": [
    "### Perfil do Eleitorado de Caraguatatuba"
   ]
  },
  {
   "cell_type": "code",
   "execution_count": null,
   "metadata": {},
   "outputs": [],
   "source": [
    "## Aqui estará os gráficos na próxima sprint e as análises feitas por região"
   ]
  },
  {
   "cell_type": "markdown",
   "metadata": {},
   "source": [
    "### Comparações entre cidades"
   ]
  },
  {
   "cell_type": "markdown",
   "metadata": {},
   "source": [
    "#### Idades\n"
   ]
  },
  {
   "cell_type": "code",
   "execution_count": 85,
   "metadata": {},
   "outputs": [],
   "source": [
    "def jovens(y):\n",
    "    x=0\n",
    "    a = [1600, 1700, 1800, 1900,2000, 2124, 2529]\n",
    "    b = []\n",
    "    outro = []\n",
    "    for i in y:\n",
    "        i+=1\n",
    "        if y.index[x] in a: \n",
    "            b.append(y.values[x])\n",
    "            x+=1\n",
    "        else:\n",
    "            outro.append(y.values[x])\n",
    "            x+=1\n",
    "    return b\n",
    "\n",
    "def idosos(y):\n",
    "    x=0\n",
    "    idoso = [6064, 6569, 7074, 7579, 8084, 8589, 9094, 9599, 9999]\n",
    "    b = []\n",
    "    outro = []\n",
    "    for i in y:\n",
    "        i+=1\n",
    "        if y.index[x] in idoso: \n",
    "            b.append(y.values[x])\n",
    "            x+=1\n",
    "        else:\n",
    "            outro.append(y.values[x])\n",
    "            x+=1\n",
    "    return b"
   ]
  },
  {
   "cell_type": "markdown",
   "metadata": {},
   "source": [
    "#### Qual a cidade com eleitores mais jovens?"
   ]
  },
  {
   "cell_type": "markdown",
   "metadata": {},
   "source": [
    "Em quantidade"
   ]
  },
  {
   "cell_type": "code",
   "execution_count": 86,
   "metadata": {},
   "outputs": [],
   "source": [
    "obj = [{'Cidade' : 'São José dos Campos', 'N° de Jovens' : sum(jovens(sjc['CD_FAIXA_ETARIA'].value_counts()))},\n",
    "       {'Cidade' : 'Taubaté', 'N° de Jovens' : sum(jovens(tbt['CD_FAIXA_ETARIA'].value_counts()))}, \n",
    "       {'Cidade' :'Pindamonhagaba', 'N° de Jovens'  : sum(jovens(pinda['CD_FAIXA_ETARIA'].value_counts()))}, \n",
    "       {'Cidade' : 'Caraguatatuba','N° de Jovens' : sum(jovens(caragua['CD_FAIXA_ETARIA'].value_counts()))},\n",
    "       { 'Cidade' : 'Jacareí','N° de Jovens' : sum(jovens(jac['CD_FAIXA_ETARIA'].value_counts()))}]"
   ]
  },
  {
   "cell_type": "code",
   "execution_count": 90,
   "metadata": {},
   "outputs": [
    {
     "data": {
      "text/html": [
       "<div>\n",
       "<style scoped>\n",
       "    .dataframe tbody tr th:only-of-type {\n",
       "        vertical-align: middle;\n",
       "    }\n",
       "\n",
       "    .dataframe tbody tr th {\n",
       "        vertical-align: top;\n",
       "    }\n",
       "\n",
       "    .dataframe thead th {\n",
       "        text-align: right;\n",
       "    }\n",
       "</style>\n",
       "<table border=\"1\" class=\"dataframe\">\n",
       "  <thead>\n",
       "    <tr style=\"text-align: right;\">\n",
       "      <th></th>\n",
       "      <th>Cidade</th>\n",
       "      <th>N° de Jovens</th>\n",
       "    </tr>\n",
       "  </thead>\n",
       "  <tbody>\n",
       "    <tr>\n",
       "      <th>0</th>\n",
       "      <td>São José dos Campos</td>\n",
       "      <td>104211</td>\n",
       "    </tr>\n",
       "    <tr>\n",
       "      <th>1</th>\n",
       "      <td>Taubaté</td>\n",
       "      <td>51184</td>\n",
       "    </tr>\n",
       "    <tr>\n",
       "      <th>4</th>\n",
       "      <td>Jacareí</td>\n",
       "      <td>20397</td>\n",
       "    </tr>\n",
       "    <tr>\n",
       "      <th>2</th>\n",
       "      <td>Pindamonhagaba</td>\n",
       "      <td>9777</td>\n",
       "    </tr>\n",
       "    <tr>\n",
       "      <th>3</th>\n",
       "      <td>Caraguatatuba</td>\n",
       "      <td>8123</td>\n",
       "    </tr>\n",
       "  </tbody>\n",
       "</table>\n",
       "</div>"
      ],
      "text/plain": [
       "                Cidade  N° de Jovens\n",
       "0  São José dos Campos        104211\n",
       "1              Taubaté         51184\n",
       "4              Jacareí         20397\n",
       "2       Pindamonhagaba          9777\n",
       "3        Caraguatatuba          8123"
      ]
     },
     "execution_count": 90,
     "metadata": {},
     "output_type": "execute_result"
    }
   ],
   "source": [
    "jovem = pd.DataFrame(obj).sort_values('N° de Jovens', ascending=False)\n",
    "jovem"
   ]
  },
  {
   "cell_type": "markdown",
   "metadata": {},
   "source": [
    "Em relação ao total de eleitores\n"
   ]
  },
  {
   "cell_type": "code",
   "execution_count": 88,
   "metadata": {},
   "outputs": [],
   "source": [
    "porcent = [{'Cidade' : 'São José dos Campos', 'Jovens (%)' :round(((sum(jovens(sjc['CD_FAIXA_ETARIA'].value_counts())))/(sum(sjc['CD_FAIXA_ETARIA'].value_counts())))*100)},\n",
    "           {'Cidade' : 'Taubaté', 'Jovens (%)' : round(((sum(jovens(tbt['CD_FAIXA_ETARIA'].value_counts())))/(sum(tbt['CD_FAIXA_ETARIA'].value_counts())))*100)}, \n",
    "           {'Cidade' :'Pindamonhagaba', 'Jovens (%)'  : round(((sum(jovens(pinda['CD_FAIXA_ETARIA'].value_counts())))/(sum(pinda['CD_FAIXA_ETARIA'].value_counts())))*100)}, \n",
    "       {'Cidade' : 'Caraguatatuba','Jovens (%)' : round(((sum(jovens(caragua['CD_FAIXA_ETARIA'].value_counts())))/(sum(caragua['CD_FAIXA_ETARIA'].value_counts())))*100)},\n",
    "       { 'Cidade' : 'Jacareí','Jovens (%)' : round(((sum(jovens(jac['CD_FAIXA_ETARIA'].value_counts())))/(sum(jac['CD_FAIXA_ETARIA'].value_counts())))*100)}]"
   ]
  },
  {
   "cell_type": "code",
   "execution_count": 91,
   "metadata": {},
   "outputs": [
    {
     "data": {
      "text/html": [
       "<div>\n",
       "<style scoped>\n",
       "    .dataframe tbody tr th:only-of-type {\n",
       "        vertical-align: middle;\n",
       "    }\n",
       "\n",
       "    .dataframe tbody tr th {\n",
       "        vertical-align: top;\n",
       "    }\n",
       "\n",
       "    .dataframe thead th {\n",
       "        text-align: right;\n",
       "    }\n",
       "</style>\n",
       "<table border=\"1\" class=\"dataframe\">\n",
       "  <thead>\n",
       "    <tr style=\"text-align: right;\">\n",
       "      <th></th>\n",
       "      <th>Cidade</th>\n",
       "      <th>Jovens (%)</th>\n",
       "    </tr>\n",
       "  </thead>\n",
       "  <tbody>\n",
       "    <tr>\n",
       "      <th>0</th>\n",
       "      <td>São José dos Campos</td>\n",
       "      <td>18</td>\n",
       "    </tr>\n",
       "    <tr>\n",
       "      <th>2</th>\n",
       "      <td>Pindamonhagaba</td>\n",
       "      <td>18</td>\n",
       "    </tr>\n",
       "    <tr>\n",
       "      <th>3</th>\n",
       "      <td>Caraguatatuba</td>\n",
       "      <td>17</td>\n",
       "    </tr>\n",
       "    <tr>\n",
       "      <th>4</th>\n",
       "      <td>Jacareí</td>\n",
       "      <td>17</td>\n",
       "    </tr>\n",
       "    <tr>\n",
       "      <th>1</th>\n",
       "      <td>Taubaté</td>\n",
       "      <td>14</td>\n",
       "    </tr>\n",
       "  </tbody>\n",
       "</table>\n",
       "</div>"
      ],
      "text/plain": [
       "                Cidade  Jovens (%)\n",
       "0  São José dos Campos          18\n",
       "2       Pindamonhagaba          18\n",
       "3        Caraguatatuba          17\n",
       "4              Jacareí          17\n",
       "1              Taubaté          14"
      ]
     },
     "execution_count": 91,
     "metadata": {},
     "output_type": "execute_result"
    }
   ],
   "source": [
    "jovem_pocert = pd.DataFrame(porcent).sort_values('Jovens (%)', ascending=False)\n",
    "jovem_pocert"
   ]
  },
  {
   "cell_type": "markdown",
   "metadata": {},
   "source": [
    "Qual a cidade com eleitores mais velhos?"
   ]
  },
  {
   "cell_type": "markdown",
   "metadata": {},
   "source": [
    "Em quantidade"
   ]
  },
  {
   "cell_type": "code",
   "execution_count": 92,
   "metadata": {},
   "outputs": [],
   "source": [
    "data =  [{'Cidade' : 'São José dos Campos', 'N° de Idosos' : sum(idosos(sjc['CD_FAIXA_ETARIA'].value_counts()))}, \n",
    "         {'Cidade' : 'Taubaté', 'N° de Idosos' : sum(idosos(tbt['CD_FAIXA_ETARIA'].value_counts()))}, \n",
    "         {'Cidade' :'Pindamonhagaba', 'N° de Idosos'  : sum(idosos(pinda['CD_FAIXA_ETARIA'].value_counts()))},\n",
    "         {'Cidade' : 'Caraguatatuba','N° de Idosos' : sum(idosos(caragua['CD_FAIXA_ETARIA'].value_counts()))},\n",
    "         { 'Cidade' : 'Jacareí','N° de Idosos' : sum(idosos(jac['CD_FAIXA_ETARIA'].value_counts()))}]"
   ]
  },
  {
   "cell_type": "code",
   "execution_count": 93,
   "metadata": {},
   "outputs": [],
   "source": [
    "idoso = pd.DataFrame(data).sort_values('N° de Idosos', ascending=False)"
   ]
  },
  {
   "cell_type": "code",
   "execution_count": 94,
   "metadata": {},
   "outputs": [
    {
     "data": {
      "text/html": [
       "<div>\n",
       "<style scoped>\n",
       "    .dataframe tbody tr th:only-of-type {\n",
       "        vertical-align: middle;\n",
       "    }\n",
       "\n",
       "    .dataframe tbody tr th {\n",
       "        vertical-align: top;\n",
       "    }\n",
       "\n",
       "    .dataframe thead th {\n",
       "        text-align: right;\n",
       "    }\n",
       "</style>\n",
       "<table border=\"1\" class=\"dataframe\">\n",
       "  <thead>\n",
       "    <tr style=\"text-align: right;\">\n",
       "      <th></th>\n",
       "      <th>Cidade</th>\n",
       "      <th>N° de Idosos</th>\n",
       "    </tr>\n",
       "  </thead>\n",
       "  <tbody>\n",
       "    <tr>\n",
       "      <th>0</th>\n",
       "      <td>São José dos Campos</td>\n",
       "      <td>150628</td>\n",
       "    </tr>\n",
       "    <tr>\n",
       "      <th>1</th>\n",
       "      <td>Taubaté</td>\n",
       "      <td>120476</td>\n",
       "    </tr>\n",
       "    <tr>\n",
       "      <th>4</th>\n",
       "      <td>Jacareí</td>\n",
       "      <td>30375</td>\n",
       "    </tr>\n",
       "    <tr>\n",
       "      <th>2</th>\n",
       "      <td>Pindamonhagaba</td>\n",
       "      <td>13321</td>\n",
       "    </tr>\n",
       "    <tr>\n",
       "      <th>3</th>\n",
       "      <td>Caraguatatuba</td>\n",
       "      <td>12340</td>\n",
       "    </tr>\n",
       "  </tbody>\n",
       "</table>\n",
       "</div>"
      ],
      "text/plain": [
       "                Cidade  N° de Idosos\n",
       "0  São José dos Campos        150628\n",
       "1              Taubaté        120476\n",
       "4              Jacareí         30375\n",
       "2       Pindamonhagaba         13321\n",
       "3        Caraguatatuba         12340"
      ]
     },
     "execution_count": 94,
     "metadata": {},
     "output_type": "execute_result"
    }
   ],
   "source": [
    "idoso"
   ]
  },
  {
   "cell_type": "markdown",
   "metadata": {},
   "source": [
    "Em relação ao total de eleitores"
   ]
  },
  {
   "cell_type": "code",
   "execution_count": 95,
   "metadata": {},
   "outputs": [],
   "source": [
    "porcento = [{'Cidade' : 'São José dos Campos', 'Idosos (%)' :round(((sum(idosos(sjc['CD_FAIXA_ETARIA'].value_counts())))/(sum(sjc['CD_FAIXA_ETARIA'].value_counts())))*100)},\n",
    "           {'Cidade' : 'Taubaté', 'Idosos (%)' : round(((sum(idosos(tbt['CD_FAIXA_ETARIA'].value_counts())))/(sum(tbt['CD_FAIXA_ETARIA'].value_counts())))*100)}, \n",
    "           {'Cidade' :'Pindamonhagaba','Idosos (%)'  : round(((sum(idosos(pinda['CD_FAIXA_ETARIA'].value_counts())))/(sum(pinda['CD_FAIXA_ETARIA'].value_counts())))*100)}, \n",
    "       {'Cidade' : 'Caraguatatuba','Idosos (%)': round(((sum(idosos(caragua['CD_FAIXA_ETARIA'].value_counts())))/(sum(caragua['CD_FAIXA_ETARIA'].value_counts())))*100)},\n",
    "       { 'Cidade' : 'Jacareí','Idosos (%)' : round(((sum(idosos(jac['CD_FAIXA_ETARIA'].value_counts())))/(sum(jac['CD_FAIXA_ETARIA'].value_counts())))*100)}]"
   ]
  },
  {
   "cell_type": "code",
   "execution_count": 96,
   "metadata": {},
   "outputs": [],
   "source": [
    "idoso_porcent = pd.DataFrame(porcento).sort_values('Idosos (%)', ascending=False)"
   ]
  },
  {
   "cell_type": "code",
   "execution_count": 97,
   "metadata": {},
   "outputs": [
    {
     "data": {
      "text/html": [
       "<div>\n",
       "<style scoped>\n",
       "    .dataframe tbody tr th:only-of-type {\n",
       "        vertical-align: middle;\n",
       "    }\n",
       "\n",
       "    .dataframe tbody tr th {\n",
       "        vertical-align: top;\n",
       "    }\n",
       "\n",
       "    .dataframe thead th {\n",
       "        text-align: right;\n",
       "    }\n",
       "</style>\n",
       "<table border=\"1\" class=\"dataframe\">\n",
       "  <thead>\n",
       "    <tr style=\"text-align: right;\">\n",
       "      <th></th>\n",
       "      <th>Cidade</th>\n",
       "      <th>Idosos (%)</th>\n",
       "    </tr>\n",
       "  </thead>\n",
       "  <tbody>\n",
       "    <tr>\n",
       "      <th>1</th>\n",
       "      <td>Taubaté</td>\n",
       "      <td>33</td>\n",
       "    </tr>\n",
       "    <tr>\n",
       "      <th>4</th>\n",
       "      <td>Jacareí</td>\n",
       "      <td>26</td>\n",
       "    </tr>\n",
       "    <tr>\n",
       "      <th>0</th>\n",
       "      <td>São José dos Campos</td>\n",
       "      <td>25</td>\n",
       "    </tr>\n",
       "    <tr>\n",
       "      <th>2</th>\n",
       "      <td>Pindamonhagaba</td>\n",
       "      <td>25</td>\n",
       "    </tr>\n",
       "    <tr>\n",
       "      <th>3</th>\n",
       "      <td>Caraguatatuba</td>\n",
       "      <td>25</td>\n",
       "    </tr>\n",
       "  </tbody>\n",
       "</table>\n",
       "</div>"
      ],
      "text/plain": [
       "                Cidade  Idosos (%)\n",
       "1              Taubaté          33\n",
       "4              Jacareí          26\n",
       "0  São José dos Campos          25\n",
       "2       Pindamonhagaba          25\n",
       "3        Caraguatatuba          25"
      ]
     },
     "execution_count": 97,
     "metadata": {},
     "output_type": "execute_result"
    }
   ],
   "source": [
    "idoso_porcent"
   ]
  }
 ],
 "metadata": {
  "kernelspec": {
   "display_name": "Python 3",
   "language": "python",
   "name": "python3"
  },
  "language_info": {
   "codemirror_mode": {
    "name": "ipython",
    "version": 3
   },
   "file_extension": ".py",
   "mimetype": "text/x-python",
   "name": "python",
   "nbconvert_exporter": "python",
   "pygments_lexer": "ipython3",
   "version": "3.8.6"
  }
 },
 "nbformat": 4,
 "nbformat_minor": 4
}
